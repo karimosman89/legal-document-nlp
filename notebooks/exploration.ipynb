import pandas as pd
from src.extraction import extract_entities, extract_contract_details, display_entities
from src.summarization import textrank_summary, transformer_summary
from src.utils import clean_text, tokenize_text

# Load sample data
sample_text = """This agreement is made on 01/01/2022 between Party A: ABC Corp and Party B: XYZ Inc.
The contract amount is $500,000. Payment is due by 05/05/2022."""

# Display entities
display_entities(sample_text)

# Test extraction functions
entities = extract_entities(sample_text)
details = extract_contract_details(sample_text)
print("Extracted Entities:", entities)
print("Contract Details:", details)

# Summarize document
print("TextRank Summary:", textrank_summary(sample_text))
print("Transformer Summary:", transformer_summary(sample_text))

